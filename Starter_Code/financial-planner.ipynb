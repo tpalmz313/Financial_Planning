{
 "cells": [
  {
   "cell_type": "markdown",
   "metadata": {},
   "source": [
    "# Unit 5 - Financial Planning"
   ]
  },
  {
   "cell_type": "code",
   "execution_count": 41,
   "metadata": {},
   "outputs": [],
   "source": [
    "# Initial imports\n",
    "import os\n",
    "\n",
    "import requests\n",
    "import pandas as pd\n",
    "from dotenv import load_dotenv\n",
    "import alpaca_trade_api as tradeapi\n",
    "from MCForecastTools import MCSimulation\n",
    "\n",
    "%matplotlib inline"
   ]
  },
  {
   "cell_type": "code",
   "execution_count": 42,
   "metadata": {},
   "outputs": [
    {
     "data": {
      "text/plain": [
       "True"
      ]
     },
     "execution_count": 42,
     "metadata": {},
     "output_type": "execute_result"
    }
   ],
   "source": [
    "# Load .env enviroment variables\n",
    "load_dotenv()"
   ]
  },
  {
   "cell_type": "markdown",
   "metadata": {},
   "source": [
    "## Part 1 - Personal Finance Planner"
   ]
  },
  {
   "cell_type": "markdown",
   "metadata": {},
   "source": [
    "### Collect Crypto Prices Using the `requests` Library"
   ]
  },
  {
   "cell_type": "code",
   "execution_count": 43,
   "metadata": {},
   "outputs": [],
   "source": [
    "# Set current amount of crypto assets\n",
    "# YOUR CODE HERE!\n",
    "my_btc = 1.2\n",
    "my_eth = 5.3"
   ]
  },
  {
   "cell_type": "code",
   "execution_count": 44,
   "metadata": {},
   "outputs": [],
   "source": [
    "# Crypto API URLs\n",
    "btc_url = \"https://api.alternative.me/v2/ticker/Bitcoin/?convert=USD\"\n",
    "eth_url = \"https://api.alternative.me/v2/ticker/Ethereum/?convert=USD\""
   ]
  },
  {
   "cell_type": "code",
   "execution_count": 45,
   "metadata": {},
   "outputs": [
    {
     "name": "stdout",
     "output_type": "stream",
     "text": [
      "{\n",
      "    \"data\": {\n",
      "        \"1\": {\n",
      "            \"id\": 1,\n",
      "            \"name\": \"Bitcoin\",\n",
      "            \"symbol\": \"BTC\",\n",
      "            \"website_slug\": \"bitcoin\",\n",
      "            \"rank\": 1,\n",
      "            \"circulating_supply\": 19124331,\n",
      "            \"total_supply\": 19124331,\n",
      "            \"max_supply\": 21000000,\n",
      "            \"quotes\": {\n",
      "                \"USD\": {\n",
      "                    \"price\": 23470.0,\n",
      "                    \"volume_24h\": 28942210013,\n",
      "                    \"market_cap\": 448886189577,\n",
      "                    \"percentage_change_1h\": 0.344495334154177,\n",
      "                    \"percentage_change_24h\": -2.30273772228474,\n",
      "                    \"percentage_change_7d\": -2.00020167305758,\n",
      "                    \"percent_change_1h\": 0.344495334154177,\n",
      "                    \"percent_change_24h\": -2.30273772228474,\n",
      "                    \"percent_change_7d\": -2.00020167305758\n",
      "                }\n",
      "            },\n",
      "            \"last_updated\": 1660784588\n",
      "        }\n",
      "    },\n",
      "    \"metadata\": {\n",
      "        \"timestamp\": 1660784588,\n",
      "        \"num_cryptocurrencies\": 3116,\n",
      "        \"error\": null\n",
      "    }\n",
      "}\n"
     ]
    }
   ],
   "source": [
    "# Fetch current BTC price\n",
    "# YOUR CODE HERE!\n",
    "btc_url = btc_url + \"?format=json\"\n",
    "requests.get(btc_url)\n",
    "btc_data = requests.get(btc_url)\n",
    "\n",
    "btc_content = btc_data.content\n",
    "\n",
    "btc = btc_data.json()\n",
    "\n",
    "import json\n",
    "print(json.dumps(btc, indent=4))\n",
    "\n"
   ]
  },
  {
   "cell_type": "code",
   "execution_count": 46,
   "metadata": {},
   "outputs": [
    {
     "name": "stdout",
     "output_type": "stream",
     "text": [
      "{\n",
      "    \"data\": {\n",
      "        \"1027\": {\n",
      "            \"id\": 1027,\n",
      "            \"name\": \"Ethereum\",\n",
      "            \"symbol\": \"ETH\",\n",
      "            \"website_slug\": \"ethereum\",\n",
      "            \"rank\": 2,\n",
      "            \"circulating_supply\": 120140395,\n",
      "            \"total_supply\": 120140395,\n",
      "            \"max_supply\": 120140160,\n",
      "            \"quotes\": {\n",
      "                \"USD\": {\n",
      "                    \"price\": 1848.79,\n",
      "                    \"volume_24h\": 18638786838,\n",
      "                    \"market_cap\": 222101537113,\n",
      "                    \"percentage_change_1h\": 0.571112530268793,\n",
      "                    \"percentage_change_24h\": -2.49187721866789,\n",
      "                    \"percentage_change_7d\": -0.220880981692495,\n",
      "                    \"percent_change_1h\": 0.571112530268793,\n",
      "                    \"percent_change_24h\": -2.49187721866789,\n",
      "                    \"percent_change_7d\": -0.220880981692495\n",
      "                }\n",
      "            },\n",
      "            \"last_updated\": 1660784679\n",
      "        }\n",
      "    },\n",
      "    \"metadata\": {\n",
      "        \"timestamp\": 1660784679,\n",
      "        \"num_cryptocurrencies\": 3116,\n",
      "        \"error\": null\n",
      "    }\n",
      "}\n"
     ]
    }
   ],
   "source": [
    "# Fetch current ETH price\n",
    "# YOUR CODE HERE!\n",
    "eth_url = eth_url + \"?format=json\"\n",
    "requests.get(eth_url)\n",
    "eth_data = requests.get(eth_url)\n",
    "\n",
    "eth_content = eth_data.content\n",
    "\n",
    "eth = eth_data.json()\n",
    "\n",
    "print(json.dumps(eth, indent=4))"
   ]
  },
  {
   "cell_type": "code",
   "execution_count": 47,
   "metadata": {},
   "outputs": [
    {
     "name": "stdout",
     "output_type": "stream",
     "text": [
      "The current value of your 1.2 BTC is $28164.00\n",
      "The current value of your 5.3 ETH is $9798.59\n"
     ]
    }
   ],
   "source": [
    "#print(btc)\n",
    "#print(eth)\n",
    "\n",
    "# YOUR CODE HERE!\n",
    "my_btc_value = btc['data']['1']['quotes']['USD']['price']\n",
    "my_eth_value = eth['data']['1027']['quotes']['USD']['price']\n",
    "# Compute current value of my crpto\n",
    "bit_value = my_btc_value * my_btc\n",
    "eth_value = my_eth_value * my_eth\n",
    "tot_crypto_val = bit_value + eth_value\n",
    "# # Print current crypto wallet balance\n",
    "print(f\"The current value of your {my_btc} BTC is ${bit_value:0.2f}\")\n",
    "print(f\"The current value of your {my_eth} ETH is ${eth_value:0.2f}\")"
   ]
  },
  {
   "cell_type": "code",
   "execution_count": null,
   "metadata": {},
   "outputs": [],
   "source": []
  },
  {
   "cell_type": "markdown",
   "metadata": {},
   "source": [
    "### Collect Investments Data Using Alpaca: `SPY` (stocks) and `AGG` (bonds)"
   ]
  },
  {
   "cell_type": "code",
   "execution_count": 48,
   "metadata": {},
   "outputs": [],
   "source": [
    "# Set current amount of shares\n",
    "my_agg = 200\n",
    "my_spy = 50"
   ]
  },
  {
   "cell_type": "code",
   "execution_count": 49,
   "metadata": {},
   "outputs": [
    {
     "data": {
      "text/html": [
       "<div>\n",
       "<style scoped>\n",
       "    .dataframe tbody tr th:only-of-type {\n",
       "        vertical-align: middle;\n",
       "    }\n",
       "\n",
       "    .dataframe tbody tr th {\n",
       "        vertical-align: top;\n",
       "    }\n",
       "\n",
       "    .dataframe thead th {\n",
       "        text-align: right;\n",
       "    }\n",
       "</style>\n",
       "<table border=\"1\" class=\"dataframe\">\n",
       "  <thead>\n",
       "    <tr style=\"text-align: right;\">\n",
       "      <th></th>\n",
       "      <th>shares</th>\n",
       "    </tr>\n",
       "  </thead>\n",
       "  <tbody>\n",
       "    <tr>\n",
       "      <th>AGG</th>\n",
       "      <td>200</td>\n",
       "    </tr>\n",
       "    <tr>\n",
       "      <th>SPY</th>\n",
       "      <td>50</td>\n",
       "    </tr>\n",
       "  </tbody>\n",
       "</table>\n",
       "</div>"
      ],
      "text/plain": [
       "     shares\n",
       "AGG     200\n",
       "SPY      50"
      ]
     },
     "execution_count": 49,
     "metadata": {},
     "output_type": "execute_result"
    }
   ],
   "source": [
    "#set tickers\n",
    "tickers = [\"AGG\", \"SPY\"]\n",
    "#set current shares data \n",
    "shares_data = {\n",
    "    'shares': [200, 50]\n",
    "}\n",
    "#create the shares dataframe \n",
    "df_shares = pd.DataFrame(shares_data, index=tickers)\n",
    "#diplay\n",
    "df_shares"
   ]
  },
  {
   "cell_type": "code",
   "execution_count": 50,
   "metadata": {},
   "outputs": [],
   "source": [
    "# Set Alpaca API key and secret\n",
    "# YOUR CODE HERE!\n",
    "alpaca_key = os.getenv('ALPACA_API_KEY')\n",
    "alpaca_sk = os.getenv('ALPACA_SECRET_KEY')\n",
    "# Create the Alpaca API object\n",
    "# YOUR CODE HERE!\n",
    "alpaca = tradeapi.REST(alpaca_key, alpaca_sk, api_version='v2')"
   ]
  },
  {
   "cell_type": "code",
   "execution_count": 51,
   "metadata": {},
   "outputs": [
    {
     "name": "stdout",
     "output_type": "stream",
     "text": [
      "Alpaca Key type: <class 'str'>\n",
      "Alpaca Secret Key type: <class 'str'>\n"
     ]
    }
   ],
   "source": [
    "#verify that alpaca key and secret were correctly loaded\n",
    "print(f\"Alpaca Key type: {type(alpaca_key)}\")\n",
    "print(f\"Alpaca Secret Key type: {type(alpaca_sk)}\")"
   ]
  },
  {
   "cell_type": "code",
   "execution_count": 52,
   "metadata": {},
   "outputs": [],
   "source": [
    "# Format current date as ISO format\n",
    "# YOUR CODE HERE!\n",
    "today = pd.Timestamp(\"2022-08-12\", tz=\"America/New_York\").isoformat()\n",
    "# Set the tickers\n",
    "\n",
    "\n",
    "# Set timeframe to \"1Day\" for Alpaca API\n",
    "timeframe = \"1Day\"\n",
    "\n"
   ]
  },
  {
   "cell_type": "code",
   "execution_count": 53,
   "metadata": {},
   "outputs": [
    {
     "data": {
      "text/html": [
       "<div>\n",
       "<style scoped>\n",
       "    .dataframe tbody tr th:only-of-type {\n",
       "        vertical-align: middle;\n",
       "    }\n",
       "\n",
       "    .dataframe tbody tr th {\n",
       "        vertical-align: top;\n",
       "    }\n",
       "\n",
       "    .dataframe thead tr th {\n",
       "        text-align: left;\n",
       "    }\n",
       "\n",
       "    .dataframe thead tr:last-of-type th {\n",
       "        text-align: right;\n",
       "    }\n",
       "</style>\n",
       "<table border=\"1\" class=\"dataframe\">\n",
       "  <thead>\n",
       "    <tr>\n",
       "      <th></th>\n",
       "      <th colspan=\"7\" halign=\"left\">AGG</th>\n",
       "      <th colspan=\"7\" halign=\"left\">SPY</th>\n",
       "    </tr>\n",
       "    <tr>\n",
       "      <th></th>\n",
       "      <th>open</th>\n",
       "      <th>high</th>\n",
       "      <th>low</th>\n",
       "      <th>close</th>\n",
       "      <th>volume</th>\n",
       "      <th>trade_count</th>\n",
       "      <th>vwap</th>\n",
       "      <th>open</th>\n",
       "      <th>high</th>\n",
       "      <th>low</th>\n",
       "      <th>close</th>\n",
       "      <th>volume</th>\n",
       "      <th>trade_count</th>\n",
       "      <th>vwap</th>\n",
       "    </tr>\n",
       "    <tr>\n",
       "      <th>timestamp</th>\n",
       "      <th></th>\n",
       "      <th></th>\n",
       "      <th></th>\n",
       "      <th></th>\n",
       "      <th></th>\n",
       "      <th></th>\n",
       "      <th></th>\n",
       "      <th></th>\n",
       "      <th></th>\n",
       "      <th></th>\n",
       "      <th></th>\n",
       "      <th></th>\n",
       "      <th></th>\n",
       "      <th></th>\n",
       "    </tr>\n",
       "  </thead>\n",
       "  <tbody>\n",
       "    <tr>\n",
       "      <th>2022-08-12 04:00:00+00:00</th>\n",
       "      <td>102.97</td>\n",
       "      <td>103.12</td>\n",
       "      <td>102.72</td>\n",
       "      <td>103.12</td>\n",
       "      <td>3628312</td>\n",
       "      <td>16069</td>\n",
       "      <td>102.954114</td>\n",
       "      <td>422.1</td>\n",
       "      <td>427.21</td>\n",
       "      <td>421.03</td>\n",
       "      <td>427.1</td>\n",
       "      <td>61456095</td>\n",
       "      <td>396459</td>\n",
       "      <td>424.557629</td>\n",
       "    </tr>\n",
       "  </tbody>\n",
       "</table>\n",
       "</div>"
      ],
      "text/plain": [
       "                              AGG                                   \\\n",
       "                             open    high     low   close   volume   \n",
       "timestamp                                                            \n",
       "2022-08-12 04:00:00+00:00  102.97  103.12  102.72  103.12  3628312   \n",
       "\n",
       "                                                     SPY                  \\\n",
       "                          trade_count        vwap   open    high     low   \n",
       "timestamp                                                                  \n",
       "2022-08-12 04:00:00+00:00       16069  102.954114  422.1  427.21  421.03   \n",
       "\n",
       "                                                                    \n",
       "                           close    volume trade_count        vwap  \n",
       "timestamp                                                           \n",
       "2022-08-12 04:00:00+00:00  427.1  61456095      396459  424.557629  "
      ]
     },
     "execution_count": 53,
     "metadata": {},
     "output_type": "execute_result"
    }
   ],
   "source": [
    "# Get current closing prices for SPY and AGG\n",
    "# YOUR CODE HERE!\n",
    "df_port = alpaca.get_bars(tickers, timeframe, start = today, end = today).df\n",
    "# Reorganize the DataFrame\n",
    "# Separate ticker data\n",
    "AGG = df_port[df_port['symbol']=='AGG'].drop('symbol', axis=1)\n",
    "SPY = df_port[df_port['symbol']=='SPY'].drop('symbol', axis=1)\n",
    "# YOUR CODE HERE!\n",
    "\n",
    "\n",
    "# Concatenate the ticker DataFrames\n",
    "# YOUR CODE HERE!\n",
    "df_port = pd.concat([AGG, SPY], axis=1, keys=['AGG', 'SPY'])\n",
    "# Preview DataFrame\n",
    "# YOUR CODE HERE!\n",
    "df_port.head()"
   ]
  },
  {
   "cell_type": "code",
   "execution_count": 54,
   "metadata": {},
   "outputs": [
    {
     "name": "stdout",
     "output_type": "stream",
     "text": [
      "Current AGG closing price: $103.12\n",
      "Current SPY closing price: $427.1\n"
     ]
    }
   ],
   "source": [
    "# Pick AGG and SPY close prices\n",
    "# YOUR CODE HERE!\n",
    "agg_close_price = float(df_port['AGG']['close'])\n",
    "spy_close_price = float(df_port['SPY']['close'])\n",
    "                        \n",
    "# Print AGG and SPY close prices\n",
    "print(f\"Current AGG closing price: ${agg_close_price}\")\n",
    "print(f\"Current SPY closing price: ${spy_close_price}\")"
   ]
  },
  {
   "cell_type": "code",
   "execution_count": 55,
   "metadata": {},
   "outputs": [
    {
     "name": "stdout",
     "output_type": "stream",
     "text": [
      "The current value of your 50 SPY shares is $21355.00\n",
      "The current value of your 200 AGG shares is $20624.00\n"
     ]
    }
   ],
   "source": [
    "# Compute the current value of shares\n",
    "# YOUR CODE HERE!\n",
    "my_spy_value = spy_close_price * my_spy\n",
    "my_agg_value = agg_close_price * my_agg\n",
    "# Print current value of shares\n",
    "print(f\"The current value of your {my_spy} SPY shares is ${my_spy_value:0.2f}\")\n",
    "print(f\"The current value of your {my_agg} AGG shares is ${my_agg_value:0.2f}\")"
   ]
  },
  {
   "cell_type": "markdown",
   "metadata": {},
   "source": [
    "### Savings Health Analysis"
   ]
  },
  {
   "cell_type": "code",
   "execution_count": 16,
   "metadata": {},
   "outputs": [
    {
     "data": {
      "text/html": [
       "<div>\n",
       "<style scoped>\n",
       "    .dataframe tbody tr th:only-of-type {\n",
       "        vertical-align: middle;\n",
       "    }\n",
       "\n",
       "    .dataframe tbody tr th {\n",
       "        vertical-align: top;\n",
       "    }\n",
       "\n",
       "    .dataframe thead th {\n",
       "        text-align: right;\n",
       "    }\n",
       "</style>\n",
       "<table border=\"1\" class=\"dataframe\">\n",
       "  <thead>\n",
       "    <tr style=\"text-align: right;\">\n",
       "      <th></th>\n",
       "      <th>Amount</th>\n",
       "    </tr>\n",
       "  </thead>\n",
       "  <tbody>\n",
       "    <tr>\n",
       "      <th>Shares</th>\n",
       "      <td>37962.587</td>\n",
       "    </tr>\n",
       "    <tr>\n",
       "      <th>Crypto</th>\n",
       "      <td>41979.000</td>\n",
       "    </tr>\n",
       "  </tbody>\n",
       "</table>\n",
       "</div>"
      ],
      "text/plain": [
       "           Amount\n",
       "Shares  37962.587\n",
       "Crypto  41979.000"
      ]
     },
     "metadata": {},
     "output_type": "display_data"
    }
   ],
   "source": [
    "# Set monthly household income\n",
    "# YOUR CODE HERE!\n",
    "monthly_income = 12000\n",
    "# Consolidate financial assets data\n",
    "total_shares = my_spy_value + my_agg_value\n",
    "# YOUR CODE HERE!\n",
    "data = {'Amount': [tot_crypto_val, total_shares]}\n",
    "assets = ['Shares', 'Crypto']\n",
    "# Create savings DataFrame\n",
    "\n",
    "\n",
    "# YOUR CODE HERE!\n",
    "df_savings = pd.DataFrame(data, index=assets)\n",
    "    \n",
    "# Display savings DataFrame\n",
    "\n",
    "display(df_savings)\n"
   ]
  },
  {
   "cell_type": "code",
   "execution_count": 17,
   "metadata": {},
   "outputs": [
    {
     "data": {
      "text/plain": [
       "array([<AxesSubplot:ylabel='Amount'>], dtype=object)"
      ]
     },
     "execution_count": 17,
     "metadata": {},
     "output_type": "execute_result"
    },
    {
     "data": {
      "image/png": "[encoded data removed]",
      "text/plain": [
       "<Figure size 432x288 with 1 Axes>"
      ]
     },
     "metadata": {},
     "output_type": "display_data"
    }
   ],
   "source": [
    "# Plot savings pie chart\n",
    "# YOUR CODE HERE!\n",
    "df_savings.plot.pie(subplots=True)"
   ]
  },
  {
   "cell_type": "code",
   "execution_count": 18,
   "metadata": {},
   "outputs": [
    {
     "name": "stdout",
     "output_type": "stream",
     "text": [
      "Your overall savings is: 79941.59.\n",
      "Congratulations! you have enough money in your savings! You can start allocating your extra assets!\n"
     ]
    }
   ],
   "source": [
    "# Set ideal emergency fund\n",
    "emergency_fund = monthly_income * 3\n",
    "\n",
    "# Calculate total amount of savings\n",
    "# YOUR CODE HERE!\n",
    "tot_saving = total_shares + tot_crypto_val\n",
    "print(f\"Your overall savings is: {tot_saving:0.2f}.\")\n",
    "\n",
    "    \n",
    "        \n",
    "# Validate saving health\n",
    "if tot_saving > emergency_fund:\n",
    "        print(\"Congratulations! you have enough money in your savings! You can start allocating your extra assets!\")\n",
    "        \n",
    "elif tot_savings == emergency_fund:\n",
    "        print(\"Congratulations! You have met your financial goal!\")\n",
    "        \n",
    "elif tot_savings < emergency_fund: \n",
    "        print(f\"You should continue saving you are: {(emergency_fund - tot_saving):0.2f}.\")\n",
    "# YOUR CODE HERE!"
   ]
  },
  {
   "cell_type": "markdown",
   "metadata": {},
   "source": [
    "## Part 2 - Retirement Planning\n",
    "\n",
    "### Monte Carlo Simulation"
   ]
  },
  {
   "cell_type": "code",
   "execution_count": 19,
   "metadata": {},
   "outputs": [],
   "source": [
    "# Set start and end dates of five years back from today.\n",
    "# Sample results may vary from the solution based on the time frame chosen\n",
    "start_date = pd.Timestamp('2017-05-01', tz='America/New_York').isoformat()\n",
    "end_date = pd.Timestamp('2022-05-01', tz='America/New_York').isoformat()"
   ]
  },
  {
   "cell_type": "code",
   "execution_count": 20,
   "metadata": {},
   "outputs": [
    {
     "data": {
      "text/html": [
       "<div>\n",
       "<style scoped>\n",
       "    .dataframe tbody tr th:only-of-type {\n",
       "        vertical-align: middle;\n",
       "    }\n",
       "\n",
       "    .dataframe tbody tr th {\n",
       "        vertical-align: top;\n",
       "    }\n",
       "\n",
       "    .dataframe thead tr th {\n",
       "        text-align: left;\n",
       "    }\n",
       "\n",
       "    .dataframe thead tr:last-of-type th {\n",
       "        text-align: right;\n",
       "    }\n",
       "</style>\n",
       "<table border=\"1\" class=\"dataframe\">\n",
       "  <thead>\n",
       "    <tr>\n",
       "      <th></th>\n",
       "      <th colspan=\"7\" halign=\"left\">AGG</th>\n",
       "      <th colspan=\"7\" halign=\"left\">SPY</th>\n",
       "    </tr>\n",
       "    <tr>\n",
       "      <th></th>\n",
       "      <th>open</th>\n",
       "      <th>high</th>\n",
       "      <th>low</th>\n",
       "      <th>close</th>\n",
       "      <th>volume</th>\n",
       "      <th>trade_count</th>\n",
       "      <th>vwap</th>\n",
       "      <th>open</th>\n",
       "      <th>high</th>\n",
       "      <th>low</th>\n",
       "      <th>close</th>\n",
       "      <th>volume</th>\n",
       "      <th>trade_count</th>\n",
       "      <th>vwap</th>\n",
       "    </tr>\n",
       "    <tr>\n",
       "      <th>timestamp</th>\n",
       "      <th></th>\n",
       "      <th></th>\n",
       "      <th></th>\n",
       "      <th></th>\n",
       "      <th></th>\n",
       "      <th></th>\n",
       "      <th></th>\n",
       "      <th></th>\n",
       "      <th></th>\n",
       "      <th></th>\n",
       "      <th></th>\n",
       "      <th></th>\n",
       "      <th></th>\n",
       "      <th></th>\n",
       "    </tr>\n",
       "  </thead>\n",
       "  <tbody>\n",
       "    <tr>\n",
       "      <th>2017-05-01 04:00:00+00:00</th>\n",
       "      <td>108.86</td>\n",
       "      <td>108.9599</td>\n",
       "      <td>108.620</td>\n",
       "      <td>108.73</td>\n",
       "      <td>2510027</td>\n",
       "      <td>11008</td>\n",
       "      <td>108.743679</td>\n",
       "      <td>238.66</td>\n",
       "      <td>239.1700</td>\n",
       "      <td>238.195</td>\n",
       "      <td>238.68</td>\n",
       "      <td>66882521</td>\n",
       "      <td>180740</td>\n",
       "      <td>238.682276</td>\n",
       "    </tr>\n",
       "    <tr>\n",
       "      <th>2017-05-02 04:00:00+00:00</th>\n",
       "      <td>108.68</td>\n",
       "      <td>108.9400</td>\n",
       "      <td>108.679</td>\n",
       "      <td>108.88</td>\n",
       "      <td>2841518</td>\n",
       "      <td>9263</td>\n",
       "      <td>108.831870</td>\n",
       "      <td>238.82</td>\n",
       "      <td>238.9800</td>\n",
       "      <td>238.300</td>\n",
       "      <td>238.77</td>\n",
       "      <td>57375732</td>\n",
       "      <td>176648</td>\n",
       "      <td>238.630973</td>\n",
       "    </tr>\n",
       "    <tr>\n",
       "      <th>2017-05-03 04:00:00+00:00</th>\n",
       "      <td>108.97</td>\n",
       "      <td>108.9900</td>\n",
       "      <td>108.770</td>\n",
       "      <td>108.77</td>\n",
       "      <td>1923403</td>\n",
       "      <td>10987</td>\n",
       "      <td>108.902870</td>\n",
       "      <td>238.29</td>\n",
       "      <td>238.8775</td>\n",
       "      <td>237.700</td>\n",
       "      <td>238.48</td>\n",
       "      <td>73137731</td>\n",
       "      <td>223568</td>\n",
       "      <td>238.418100</td>\n",
       "    </tr>\n",
       "    <tr>\n",
       "      <th>2017-05-04 04:00:00+00:00</th>\n",
       "      <td>108.55</td>\n",
       "      <td>108.7000</td>\n",
       "      <td>108.550</td>\n",
       "      <td>108.68</td>\n",
       "      <td>1897912</td>\n",
       "      <td>7501</td>\n",
       "      <td>108.629678</td>\n",
       "      <td>238.81</td>\n",
       "      <td>238.9225</td>\n",
       "      <td>237.780</td>\n",
       "      <td>238.76</td>\n",
       "      <td>61462732</td>\n",
       "      <td>208872</td>\n",
       "      <td>238.541805</td>\n",
       "    </tr>\n",
       "    <tr>\n",
       "      <th>2017-05-05 04:00:00+00:00</th>\n",
       "      <td>108.72</td>\n",
       "      <td>108.7400</td>\n",
       "      <td>108.570</td>\n",
       "      <td>108.70</td>\n",
       "      <td>1421843</td>\n",
       "      <td>7385</td>\n",
       "      <td>108.675918</td>\n",
       "      <td>239.16</td>\n",
       "      <td>239.7200</td>\n",
       "      <td>238.680</td>\n",
       "      <td>239.70</td>\n",
       "      <td>62001269</td>\n",
       "      <td>204885</td>\n",
       "      <td>239.253410</td>\n",
       "    </tr>\n",
       "  </tbody>\n",
       "</table>\n",
       "</div>"
      ],
      "text/plain": [
       "                              AGG                                      \\\n",
       "                             open      high      low   close   volume   \n",
       "timestamp                                                               \n",
       "2017-05-01 04:00:00+00:00  108.86  108.9599  108.620  108.73  2510027   \n",
       "2017-05-02 04:00:00+00:00  108.68  108.9400  108.679  108.88  2841518   \n",
       "2017-05-03 04:00:00+00:00  108.97  108.9900  108.770  108.77  1923403   \n",
       "2017-05-04 04:00:00+00:00  108.55  108.7000  108.550  108.68  1897912   \n",
       "2017-05-05 04:00:00+00:00  108.72  108.7400  108.570  108.70  1421843   \n",
       "\n",
       "                                                      SPY                     \\\n",
       "                          trade_count        vwap    open      high      low   \n",
       "timestamp                                                                      \n",
       "2017-05-01 04:00:00+00:00       11008  108.743679  238.66  239.1700  238.195   \n",
       "2017-05-02 04:00:00+00:00        9263  108.831870  238.82  238.9800  238.300   \n",
       "2017-05-03 04:00:00+00:00       10987  108.902870  238.29  238.8775  237.700   \n",
       "2017-05-04 04:00:00+00:00        7501  108.629678  238.81  238.9225  237.780   \n",
       "2017-05-05 04:00:00+00:00        7385  108.675918  239.16  239.7200  238.680   \n",
       "\n",
       "                                                                     \n",
       "                            close    volume trade_count        vwap  \n",
       "timestamp                                                            \n",
       "2017-05-01 04:00:00+00:00  238.68  66882521      180740  238.682276  \n",
       "2017-05-02 04:00:00+00:00  238.77  57375732      176648  238.630973  \n",
       "2017-05-03 04:00:00+00:00  238.48  73137731      223568  238.418100  \n",
       "2017-05-04 04:00:00+00:00  238.76  61462732      208872  238.541805  \n",
       "2017-05-05 04:00:00+00:00  239.70  62001269      204885  239.253410  "
      ]
     },
     "execution_count": 20,
     "metadata": {},
     "output_type": "execute_result"
    }
   ],
   "source": [
    "# Get 5 years' worth of historical data for SPY and AGG\n",
    "# YOUR CODE HERE!\n",
    "df_stock_data = alpaca.get_bars(tickers, timeframe, start = start_date, end = end_date).df\n",
    "# Reorganize the DataFrame\n",
    "# Separate ticker data\n",
    "# YOUR CODE HERE!\n",
    "AGG = df_stock_data[df_stock_data['symbol']=='AGG'].drop('symbol', axis=1)\n",
    "SPY = df_stock_data[df_stock_data['symbol']=='SPY'].drop('symbol', axis=1)\n",
    "\n",
    "# Concatenate the ticker DataFrames\n",
    "# YOUR CODE HERE!\n",
    "df_stock_data = pd.concat([AGG, SPY], axis=1, keys=['AGG', 'SPY'])\n",
    "# Display sample data\n",
    "df_stock_data.head()"
   ]
  },
  {
   "cell_type": "code",
   "execution_count": 21,
   "metadata": {},
   "outputs": [],
   "source": [
    "# Configuring a Monte Carlo simulation to forecast 30 years cumulative returns\n",
    "# YOUR CODE HERE!\n",
    "sims = 500"
   ]
  },
  {
   "cell_type": "code",
   "execution_count": 22,
   "metadata": {},
   "outputs": [],
   "source": [
    "# Printing the simulation input data\n",
    "# YOUR CODE HERE!\n",
    "Monte_df = MCSimulation(portfolio_data = df_stock_data, weights = [.6, .4], num_simulation=sims, num_trading_days=252*30)"
   ]
  },
  {
   "cell_type": "code",
   "execution_count": 23,
   "metadata": {},
   "outputs": [
    {
     "name": "stdout",
     "output_type": "stream",
     "text": [
      "Running Monte Carlo simulation number 0.\n",
      "Running Monte Carlo simulation number 10.\n",
      "Running Monte Carlo simulation number 20.\n",
      "Running Monte Carlo simulation number 30.\n",
      "Running Monte Carlo simulation number 40.\n",
      "Running Monte Carlo simulation number 50.\n",
      "Running Monte Carlo simulation number 60.\n",
      "Running Monte Carlo simulation number 70.\n",
      "Running Monte Carlo simulation number 80.\n",
      "Running Monte Carlo simulation number 90.\n",
      "Running Monte Carlo simulation number 100.\n"
     ]
    },
    {
     "name": "stderr",
     "output_type": "stream",
     "text": [
      "/Users/thomaspalmisano/Desktop/FinTech_ASU/APIs_Hw/Financial_Planning/Starter_Code/MCForecastTools.py:117: PerformanceWarning: DataFrame is highly fragmented.  This is usually the result of calling `frame.insert` many times, which has poor performance.  Consider joining all columns at once using pd.concat(axis=1) instead.  To get a de-fragmented frame, use `newframe = frame.copy()`\n",
      "  portfolio_cumulative_returns[n] = (1 + sim_df.fillna(0)).cumprod()\n"
     ]
    },
    {
     "name": "stdout",
     "output_type": "stream",
     "text": [
      "Running Monte Carlo simulation number 110.\n",
      "Running Monte Carlo simulation number 120.\n",
      "Running Monte Carlo simulation number 130.\n",
      "Running Monte Carlo simulation number 140.\n",
      "Running Monte Carlo simulation number 150.\n",
      "Running Monte Carlo simulation number 160.\n",
      "Running Monte Carlo simulation number 170.\n",
      "Running Monte Carlo simulation number 180.\n",
      "Running Monte Carlo simulation number 190.\n",
      "Running Monte Carlo simulation number 200.\n",
      "Running Monte Carlo simulation number 210.\n",
      "Running Monte Carlo simulation number 220.\n",
      "Running Monte Carlo simulation number 230.\n",
      "Running Monte Carlo simulation number 240.\n",
      "Running Monte Carlo simulation number 250.\n",
      "Running Monte Carlo simulation number 260.\n",
      "Running Monte Carlo simulation number 270.\n",
      "Running Monte Carlo simulation number 280.\n",
      "Running Monte Carlo simulation number 290.\n",
      "Running Monte Carlo simulation number 300.\n",
      "Running Monte Carlo simulation number 310.\n",
      "Running Monte Carlo simulation number 320.\n",
      "Running Monte Carlo simulation number 330.\n",
      "Running Monte Carlo simulation number 340.\n",
      "Running Monte Carlo simulation number 350.\n",
      "Running Monte Carlo simulation number 360.\n",
      "Running Monte Carlo simulation number 370.\n",
      "Running Monte Carlo simulation number 380.\n",
      "Running Monte Carlo simulation number 390.\n",
      "Running Monte Carlo simulation number 400.\n",
      "Running Monte Carlo simulation number 410.\n",
      "Running Monte Carlo simulation number 420.\n",
      "Running Monte Carlo simulation number 430.\n",
      "Running Monte Carlo simulation number 440.\n",
      "Running Monte Carlo simulation number 450.\n",
      "Running Monte Carlo simulation number 460.\n",
      "Running Monte Carlo simulation number 470.\n",
      "Running Monte Carlo simulation number 480.\n",
      "Running Monte Carlo simulation number 490.\n"
     ]
    },
    {
     "data": {
      "text/html": [
       "<div>\n",
       "<style scoped>\n",
       "    .dataframe tbody tr th:only-of-type {\n",
       "        vertical-align: middle;\n",
       "    }\n",
       "\n",
       "    .dataframe tbody tr th {\n",
       "        vertical-align: top;\n",
       "    }\n",
       "\n",
       "    .dataframe thead th {\n",
       "        text-align: right;\n",
       "    }\n",
       "</style>\n",
       "<table border=\"1\" class=\"dataframe\">\n",
       "  <thead>\n",
       "    <tr style=\"text-align: right;\">\n",
       "      <th></th>\n",
       "      <th>0</th>\n",
       "      <th>1</th>\n",
       "      <th>2</th>\n",
       "      <th>3</th>\n",
       "      <th>4</th>\n",
       "      <th>5</th>\n",
       "      <th>6</th>\n",
       "      <th>7</th>\n",
       "      <th>8</th>\n",
       "      <th>9</th>\n",
       "      <th>...</th>\n",
       "      <th>490</th>\n",
       "      <th>491</th>\n",
       "      <th>492</th>\n",
       "      <th>493</th>\n",
       "      <th>494</th>\n",
       "      <th>495</th>\n",
       "      <th>496</th>\n",
       "      <th>497</th>\n",
       "      <th>498</th>\n",
       "      <th>499</th>\n",
       "    </tr>\n",
       "  </thead>\n",
       "  <tbody>\n",
       "    <tr>\n",
       "      <th>0</th>\n",
       "      <td>1.000000</td>\n",
       "      <td>1.000000</td>\n",
       "      <td>1.000000</td>\n",
       "      <td>1.000000</td>\n",
       "      <td>1.000000</td>\n",
       "      <td>1.000000</td>\n",
       "      <td>1.000000</td>\n",
       "      <td>1.000000</td>\n",
       "      <td>1.000000</td>\n",
       "      <td>1.000000</td>\n",
       "      <td>...</td>\n",
       "      <td>1.000000</td>\n",
       "      <td>1.000000</td>\n",
       "      <td>1.000000</td>\n",
       "      <td>1.000000</td>\n",
       "      <td>1.000000</td>\n",
       "      <td>1.000000</td>\n",
       "      <td>1.000000</td>\n",
       "      <td>1.000000</td>\n",
       "      <td>1.000000</td>\n",
       "      <td>1.000000</td>\n",
       "    </tr>\n",
       "    <tr>\n",
       "      <th>1</th>\n",
       "      <td>0.995810</td>\n",
       "      <td>0.997150</td>\n",
       "      <td>1.000131</td>\n",
       "      <td>1.003812</td>\n",
       "      <td>1.004483</td>\n",
       "      <td>1.001933</td>\n",
       "      <td>1.000855</td>\n",
       "      <td>1.001987</td>\n",
       "      <td>0.991022</td>\n",
       "      <td>1.003451</td>\n",
       "      <td>...</td>\n",
       "      <td>0.994585</td>\n",
       "      <td>1.002370</td>\n",
       "      <td>0.999962</td>\n",
       "      <td>1.002517</td>\n",
       "      <td>0.997574</td>\n",
       "      <td>1.004854</td>\n",
       "      <td>0.996443</td>\n",
       "      <td>1.001114</td>\n",
       "      <td>1.002882</td>\n",
       "      <td>0.996766</td>\n",
       "    </tr>\n",
       "    <tr>\n",
       "      <th>2</th>\n",
       "      <td>0.991567</td>\n",
       "      <td>0.998963</td>\n",
       "      <td>1.002893</td>\n",
       "      <td>0.994437</td>\n",
       "      <td>0.999344</td>\n",
       "      <td>1.005680</td>\n",
       "      <td>0.994743</td>\n",
       "      <td>0.995830</td>\n",
       "      <td>0.990760</td>\n",
       "      <td>0.998407</td>\n",
       "      <td>...</td>\n",
       "      <td>1.002683</td>\n",
       "      <td>1.002115</td>\n",
       "      <td>1.005044</td>\n",
       "      <td>1.003490</td>\n",
       "      <td>1.005340</td>\n",
       "      <td>1.000828</td>\n",
       "      <td>0.988622</td>\n",
       "      <td>1.002935</td>\n",
       "      <td>1.004050</td>\n",
       "      <td>1.007691</td>\n",
       "    </tr>\n",
       "    <tr>\n",
       "      <th>3</th>\n",
       "      <td>0.983421</td>\n",
       "      <td>0.994973</td>\n",
       "      <td>1.002386</td>\n",
       "      <td>0.994519</td>\n",
       "      <td>1.009656</td>\n",
       "      <td>1.000195</td>\n",
       "      <td>0.997625</td>\n",
       "      <td>0.996652</td>\n",
       "      <td>0.987573</td>\n",
       "      <td>1.000952</td>\n",
       "      <td>...</td>\n",
       "      <td>0.998095</td>\n",
       "      <td>0.997816</td>\n",
       "      <td>1.005654</td>\n",
       "      <td>0.997150</td>\n",
       "      <td>1.018997</td>\n",
       "      <td>1.002755</td>\n",
       "      <td>0.993578</td>\n",
       "      <td>1.002367</td>\n",
       "      <td>1.007518</td>\n",
       "      <td>1.017992</td>\n",
       "    </tr>\n",
       "    <tr>\n",
       "      <th>4</th>\n",
       "      <td>0.990329</td>\n",
       "      <td>1.000962</td>\n",
       "      <td>1.004205</td>\n",
       "      <td>1.000625</td>\n",
       "      <td>1.015658</td>\n",
       "      <td>0.998733</td>\n",
       "      <td>1.002785</td>\n",
       "      <td>1.010652</td>\n",
       "      <td>0.982887</td>\n",
       "      <td>0.997108</td>\n",
       "      <td>...</td>\n",
       "      <td>1.000560</td>\n",
       "      <td>0.999277</td>\n",
       "      <td>1.004500</td>\n",
       "      <td>0.993026</td>\n",
       "      <td>1.018943</td>\n",
       "      <td>1.007840</td>\n",
       "      <td>0.987493</td>\n",
       "      <td>1.004271</td>\n",
       "      <td>1.006194</td>\n",
       "      <td>1.020941</td>\n",
       "    </tr>\n",
       "    <tr>\n",
       "      <th>...</th>\n",
       "      <td>...</td>\n",
       "      <td>...</td>\n",
       "      <td>...</td>\n",
       "      <td>...</td>\n",
       "      <td>...</td>\n",
       "      <td>...</td>\n",
       "      <td>...</td>\n",
       "      <td>...</td>\n",
       "      <td>...</td>\n",
       "      <td>...</td>\n",
       "      <td>...</td>\n",
       "      <td>...</td>\n",
       "      <td>...</td>\n",
       "      <td>...</td>\n",
       "      <td>...</td>\n",
       "      <td>...</td>\n",
       "      <td>...</td>\n",
       "      <td>...</td>\n",
       "      <td>...</td>\n",
       "      <td>...</td>\n",
       "      <td>...</td>\n",
       "    </tr>\n",
       "    <tr>\n",
       "      <th>7556</th>\n",
       "      <td>2.643163</td>\n",
       "      <td>1.985040</td>\n",
       "      <td>8.847890</td>\n",
       "      <td>4.699992</td>\n",
       "      <td>2.706653</td>\n",
       "      <td>5.908430</td>\n",
       "      <td>1.394543</td>\n",
       "      <td>3.027778</td>\n",
       "      <td>2.578143</td>\n",
       "      <td>3.926530</td>\n",
       "      <td>...</td>\n",
       "      <td>4.998994</td>\n",
       "      <td>4.157369</td>\n",
       "      <td>1.563194</td>\n",
       "      <td>4.283939</td>\n",
       "      <td>3.776555</td>\n",
       "      <td>1.892236</td>\n",
       "      <td>3.228637</td>\n",
       "      <td>3.678197</td>\n",
       "      <td>4.768570</td>\n",
       "      <td>2.957574</td>\n",
       "    </tr>\n",
       "    <tr>\n",
       "      <th>7557</th>\n",
       "      <td>2.648086</td>\n",
       "      <td>2.004341</td>\n",
       "      <td>8.821125</td>\n",
       "      <td>4.687387</td>\n",
       "      <td>2.702704</td>\n",
       "      <td>5.912468</td>\n",
       "      <td>1.389903</td>\n",
       "      <td>3.010105</td>\n",
       "      <td>2.577098</td>\n",
       "      <td>3.924437</td>\n",
       "      <td>...</td>\n",
       "      <td>4.995147</td>\n",
       "      <td>4.121998</td>\n",
       "      <td>1.564136</td>\n",
       "      <td>4.311647</td>\n",
       "      <td>3.742028</td>\n",
       "      <td>1.892975</td>\n",
       "      <td>3.234640</td>\n",
       "      <td>3.681794</td>\n",
       "      <td>4.753409</td>\n",
       "      <td>2.940869</td>\n",
       "    </tr>\n",
       "    <tr>\n",
       "      <th>7558</th>\n",
       "      <td>2.638053</td>\n",
       "      <td>1.986298</td>\n",
       "      <td>8.781153</td>\n",
       "      <td>4.694233</td>\n",
       "      <td>2.718291</td>\n",
       "      <td>5.900177</td>\n",
       "      <td>1.391877</td>\n",
       "      <td>3.014306</td>\n",
       "      <td>2.570773</td>\n",
       "      <td>3.975252</td>\n",
       "      <td>...</td>\n",
       "      <td>5.005018</td>\n",
       "      <td>4.134071</td>\n",
       "      <td>1.575217</td>\n",
       "      <td>4.301733</td>\n",
       "      <td>3.747159</td>\n",
       "      <td>1.899046</td>\n",
       "      <td>3.245714</td>\n",
       "      <td>3.698258</td>\n",
       "      <td>4.720232</td>\n",
       "      <td>2.948415</td>\n",
       "    </tr>\n",
       "    <tr>\n",
       "      <th>7559</th>\n",
       "      <td>2.623964</td>\n",
       "      <td>1.990806</td>\n",
       "      <td>8.838853</td>\n",
       "      <td>4.684008</td>\n",
       "      <td>2.731798</td>\n",
       "      <td>5.908632</td>\n",
       "      <td>1.383598</td>\n",
       "      <td>3.009753</td>\n",
       "      <td>2.576608</td>\n",
       "      <td>3.978663</td>\n",
       "      <td>...</td>\n",
       "      <td>5.039495</td>\n",
       "      <td>4.128451</td>\n",
       "      <td>1.570965</td>\n",
       "      <td>4.289958</td>\n",
       "      <td>3.732933</td>\n",
       "      <td>1.860410</td>\n",
       "      <td>3.210850</td>\n",
       "      <td>3.674376</td>\n",
       "      <td>4.717127</td>\n",
       "      <td>2.953671</td>\n",
       "    </tr>\n",
       "    <tr>\n",
       "      <th>7560</th>\n",
       "      <td>2.625452</td>\n",
       "      <td>2.006902</td>\n",
       "      <td>8.797008</td>\n",
       "      <td>4.727252</td>\n",
       "      <td>2.736518</td>\n",
       "      <td>5.925995</td>\n",
       "      <td>1.377131</td>\n",
       "      <td>3.022791</td>\n",
       "      <td>2.578138</td>\n",
       "      <td>4.006007</td>\n",
       "      <td>...</td>\n",
       "      <td>4.987985</td>\n",
       "      <td>4.144813</td>\n",
       "      <td>1.564702</td>\n",
       "      <td>4.299676</td>\n",
       "      <td>3.709024</td>\n",
       "      <td>1.851931</td>\n",
       "      <td>3.203676</td>\n",
       "      <td>3.705390</td>\n",
       "      <td>4.675980</td>\n",
       "      <td>2.951710</td>\n",
       "    </tr>\n",
       "  </tbody>\n",
       "</table>\n",
       "<p>7561 rows × 500 columns</p>\n",
       "</div>"
      ],
      "text/plain": [
       "           0         1         2         3         4         5         6    \\\n",
       "0     1.000000  1.000000  1.000000  1.000000  1.000000  1.000000  1.000000   \n",
       "1     0.995810  0.997150  1.000131  1.003812  1.004483  1.001933  1.000855   \n",
       "2     0.991567  0.998963  1.002893  0.994437  0.999344  1.005680  0.994743   \n",
       "3     0.983421  0.994973  1.002386  0.994519  1.009656  1.000195  0.997625   \n",
       "4     0.990329  1.000962  1.004205  1.000625  1.015658  0.998733  1.002785   \n",
       "...        ...       ...       ...       ...       ...       ...       ...   \n",
       "7556  2.643163  1.985040  8.847890  4.699992  2.706653  5.908430  1.394543   \n",
       "7557  2.648086  2.004341  8.821125  4.687387  2.702704  5.912468  1.389903   \n",
       "7558  2.638053  1.986298  8.781153  4.694233  2.718291  5.900177  1.391877   \n",
       "7559  2.623964  1.990806  8.838853  4.684008  2.731798  5.908632  1.383598   \n",
       "7560  2.625452  2.006902  8.797008  4.727252  2.736518  5.925995  1.377131   \n",
       "\n",
       "           7         8         9    ...       490       491       492  \\\n",
       "0     1.000000  1.000000  1.000000  ...  1.000000  1.000000  1.000000   \n",
       "1     1.001987  0.991022  1.003451  ...  0.994585  1.002370  0.999962   \n",
       "2     0.995830  0.990760  0.998407  ...  1.002683  1.002115  1.005044   \n",
       "3     0.996652  0.987573  1.000952  ...  0.998095  0.997816  1.005654   \n",
       "4     1.010652  0.982887  0.997108  ...  1.000560  0.999277  1.004500   \n",
       "...        ...       ...       ...  ...       ...       ...       ...   \n",
       "7556  3.027778  2.578143  3.926530  ...  4.998994  4.157369  1.563194   \n",
       "7557  3.010105  2.577098  3.924437  ...  4.995147  4.121998  1.564136   \n",
       "7558  3.014306  2.570773  3.975252  ...  5.005018  4.134071  1.575217   \n",
       "7559  3.009753  2.576608  3.978663  ...  5.039495  4.128451  1.570965   \n",
       "7560  3.022791  2.578138  4.006007  ...  4.987985  4.144813  1.564702   \n",
       "\n",
       "           493       494       495       496       497       498       499  \n",
       "0     1.000000  1.000000  1.000000  1.000000  1.000000  1.000000  1.000000  \n",
       "1     1.002517  0.997574  1.004854  0.996443  1.001114  1.002882  0.996766  \n",
       "2     1.003490  1.005340  1.000828  0.988622  1.002935  1.004050  1.007691  \n",
       "3     0.997150  1.018997  1.002755  0.993578  1.002367  1.007518  1.017992  \n",
       "4     0.993026  1.018943  1.007840  0.987493  1.004271  1.006194  1.020941  \n",
       "...        ...       ...       ...       ...       ...       ...       ...  \n",
       "7556  4.283939  3.776555  1.892236  3.228637  3.678197  4.768570  2.957574  \n",
       "7557  4.311647  3.742028  1.892975  3.234640  3.681794  4.753409  2.940869  \n",
       "7558  4.301733  3.747159  1.899046  3.245714  3.698258  4.720232  2.948415  \n",
       "7559  4.289958  3.732933  1.860410  3.210850  3.674376  4.717127  2.953671  \n",
       "7560  4.299676  3.709024  1.851931  3.203676  3.705390  4.675980  2.951710  \n",
       "\n",
       "[7561 rows x 500 columns]"
      ]
     },
     "execution_count": 23,
     "metadata": {},
     "output_type": "execute_result"
    }
   ],
   "source": [
    "# Running a Monte Carlo simulation to forecast 30 years cumulative returns\n",
    "# YOUR CODE HERE!\n",
    "Monte_df.calc_cumulative_return()"
   ]
  },
  {
   "cell_type": "code",
   "execution_count": 24,
   "metadata": {},
   "outputs": [
    {
     "data": {
      "image/png": "[encoded data removed]",
      "text/plain": [
       "<Figure size 432x288 with 1 Axes>"
      ]
     },
     "metadata": {
      "needs_background": "light"
     },
     "output_type": "display_data"
    }
   ],
   "source": [
    "# Plot simulation outcomes\n",
    "# YOUR CODE HERE!\n",
    "line_plot = Monte_df.plot_simulation()"
   ]
  },
  {
   "cell_type": "code",
   "execution_count": 25,
   "metadata": {},
   "outputs": [
    {
     "data": {
      "image/png": "[encoded data removed]",
      "text/plain": [
       "<Figure size 432x288 with 1 Axes>"
      ]
     },
     "metadata": {
      "needs_background": "light"
     },
     "output_type": "display_data"
    }
   ],
   "source": [
    "# Plot probability distribution and confidence intervals\n",
    "# YOUR CODE HERE!\n",
    "plot_60_40 = Monte_df.plot_distribution()"
   ]
  },
  {
   "cell_type": "markdown",
   "metadata": {},
   "source": [
    "### Retirement Analysis"
   ]
  },
  {
   "cell_type": "code",
   "execution_count": 26,
   "metadata": {},
   "outputs": [
    {
     "name": "stdout",
     "output_type": "stream",
     "text": [
      "count           500.000000\n",
      "mean              3.801062\n",
      "std               1.785158\n",
      "min               0.683852\n",
      "25%               2.557609\n",
      "50%               3.440125\n",
      "75%               4.676723\n",
      "max              12.068481\n",
      "95% CI Lower      1.423543\n",
      "95% CI Upper      8.120071\n",
      "Name: 7560, dtype: float64\n"
     ]
    }
   ],
   "source": [
    "# Fetch summary statistics from the Monte Carlo simulation results\n",
    "# YOUR CODE HERE!\n",
    "sum_table1 = Monte_df.summarize_cumulative_return()\n",
    "\n",
    "sim_return_data = { \n",
    "    'mean': list(Monte_df.simulated_return.mean(axis=1)),\n",
    "    'median': list(Monte_df.simulated_return.median(axis=1)),\n",
    "    'min': list(Monte_df.simulated_return.min(axis=1)),\n",
    "    'max': list(Monte_df.simulated_return.max(axis=1))}\n",
    "# Print summary statistics\n",
    "# YOUR CODE HERE!\n",
    "sim_return_df = pd.DataFrame(sim_return_data)\n",
    "\n",
    "print(sum_table1)"
   ]
  },
  {
   "cell_type": "markdown",
   "metadata": {},
   "source": [
    "### Calculate the expected portfolio return at the `95%` lower and upper confidence intervals based on a `$20,000` initial investment."
   ]
  },
  {
   "cell_type": "code",
   "execution_count": 27,
   "metadata": {},
   "outputs": [
    {
     "name": "stdout",
     "output_type": "stream",
     "text": [
      "There is a 95% chance that an initial investment of $20000 in the portfolio over the next 30 years will end within in the range of $28470.86 and $162401.43\n"
     ]
    }
   ],
   "source": [
    "# Set initial investment\n",
    "initial_investment = 20000\n",
    "\n",
    "# Use the lower and upper `95%` confidence intervals to calculate the range of the possible outcomes of our $20,000\n",
    "# YOUR CODE HERE!\n",
    "ci_lower = round(sum_table1[8]*20000,2)\n",
    "ci_upper = round(sum_table1[9]*20000,2)\n",
    "# Print results\n",
    "print(f\"There is a 95% chance that an initial investment of ${initial_investment} in the portfolio\"\n",
    "      f\" over the next 30 years will end within in the range of\"\n",
    "      f\" ${ci_lower} and ${ci_upper}\")"
   ]
  },
  {
   "cell_type": "markdown",
   "metadata": {},
   "source": [
    "### Calculate the expected portfolio return at the `95%` lower and upper confidence intervals based on a `50%` increase in the initial investment."
   ]
  },
  {
   "cell_type": "code",
   "execution_count": 28,
   "metadata": {},
   "outputs": [
    {
     "name": "stdout",
     "output_type": "stream",
     "text": [
      "There is a 95% chance that an initial investment of $30000.0 in the portfolio over the next 30 years will end within in the range of $28470.86 and $162401.43\n"
     ]
    }
   ],
   "source": [
    "# Set initial investment\n",
    "initial_investment = 20000 * 1.5\n",
    "\n",
    "# Use the lower and upper `95%` confidence intervals to calculate the range of the possible outcomes of our $30,000\n",
    "# YOUR CODE HERE!\n",
    "ci_lower = round(sum_table1[8]*20000,2)\n",
    "ci_upper = round(sum_table1[9]*20000,2)\n",
    "# Print results\n",
    "print(f\"There is a 95% chance that an initial investment of ${initial_investment} in the portfolio\"\n",
    "      f\" over the next 30 years will end within in the range of\"\n",
    "      f\" ${ci_lower} and ${ci_upper}\")"
   ]
  },
  {
   "cell_type": "markdown",
   "metadata": {},
   "source": [
    "## Optional Challenge - Early Retirement\n",
    "\n",
    "\n",
    "### Five Years Retirement Option"
   ]
  },
  {
   "cell_type": "code",
   "execution_count": 29,
   "metadata": {},
   "outputs": [],
   "source": [
    "# Configuring a Monte Carlo simulation to forecast 5 years cumulative returns\n",
    "# YOUR CODE HERE!\n",
    "sims = 500"
   ]
  },
  {
   "cell_type": "code",
   "execution_count": 30,
   "metadata": {},
   "outputs": [],
   "source": [
    "# Running a Monte Carlo simulation to forecast 5 years cumulative returns\n",
    "# YOUR CODE HERE!\n",
    "Monte_early = MCSimulation(portfolio_data = df_stock_data, weights = [.6, .4], num_simulation=sims, num_trading_days=252*5)"
   ]
  },
  {
   "cell_type": "code",
   "execution_count": 31,
   "metadata": {},
   "outputs": [
    {
     "name": "stdout",
     "output_type": "stream",
     "text": [
      "Running Monte Carlo simulation number 0.\n",
      "Running Monte Carlo simulation number 10.\n",
      "Running Monte Carlo simulation number 20.\n",
      "Running Monte Carlo simulation number 30.\n",
      "Running Monte Carlo simulation number 40.\n",
      "Running Monte Carlo simulation number 50.\n",
      "Running Monte Carlo simulation number 60.\n",
      "Running Monte Carlo simulation number 70.\n",
      "Running Monte Carlo simulation number 80.\n",
      "Running Monte Carlo simulation number 90.\n",
      "Running Monte Carlo simulation number 100.\n"
     ]
    },
    {
     "name": "stderr",
     "output_type": "stream",
     "text": [
      "/Users/thomaspalmisano/Desktop/FinTech_ASU/APIs_Hw/Financial_Planning/Starter_Code/MCForecastTools.py:117: PerformanceWarning: DataFrame is highly fragmented.  This is usually the result of calling `frame.insert` many times, which has poor performance.  Consider joining all columns at once using pd.concat(axis=1) instead.  To get a de-fragmented frame, use `newframe = frame.copy()`\n",
      "  portfolio_cumulative_returns[n] = (1 + sim_df.fillna(0)).cumprod()\n"
     ]
    },
    {
     "name": "stdout",
     "output_type": "stream",
     "text": [
      "Running Monte Carlo simulation number 110.\n",
      "Running Monte Carlo simulation number 120.\n",
      "Running Monte Carlo simulation number 130.\n",
      "Running Monte Carlo simulation number 140.\n",
      "Running Monte Carlo simulation number 150.\n",
      "Running Monte Carlo simulation number 160.\n",
      "Running Monte Carlo simulation number 170.\n",
      "Running Monte Carlo simulation number 180.\n",
      "Running Monte Carlo simulation number 190.\n",
      "Running Monte Carlo simulation number 200.\n",
      "Running Monte Carlo simulation number 210.\n",
      "Running Monte Carlo simulation number 220.\n",
      "Running Monte Carlo simulation number 230.\n",
      "Running Monte Carlo simulation number 240.\n",
      "Running Monte Carlo simulation number 250.\n",
      "Running Monte Carlo simulation number 260.\n",
      "Running Monte Carlo simulation number 270.\n",
      "Running Monte Carlo simulation number 280.\n",
      "Running Monte Carlo simulation number 290.\n",
      "Running Monte Carlo simulation number 300.\n",
      "Running Monte Carlo simulation number 310.\n",
      "Running Monte Carlo simulation number 320.\n",
      "Running Monte Carlo simulation number 330.\n",
      "Running Monte Carlo simulation number 340.\n",
      "Running Monte Carlo simulation number 350.\n",
      "Running Monte Carlo simulation number 360.\n",
      "Running Monte Carlo simulation number 370.\n",
      "Running Monte Carlo simulation number 380.\n",
      "Running Monte Carlo simulation number 390.\n",
      "Running Monte Carlo simulation number 400.\n",
      "Running Monte Carlo simulation number 410.\n",
      "Running Monte Carlo simulation number 420.\n",
      "Running Monte Carlo simulation number 430.\n",
      "Running Monte Carlo simulation number 440.\n",
      "Running Monte Carlo simulation number 450.\n",
      "Running Monte Carlo simulation number 460.\n",
      "Running Monte Carlo simulation number 470.\n",
      "Running Monte Carlo simulation number 480.\n",
      "Running Monte Carlo simulation number 490.\n"
     ]
    },
    {
     "data": {
      "image/png": "[encoded data removed]",
      "text/plain": [
       "<Figure size 432x288 with 1 Axes>"
      ]
     },
     "metadata": {
      "needs_background": "light"
     },
     "output_type": "display_data"
    }
   ],
   "source": [
    "# Plot simulation outcomes\n",
    "# YOUR CODE HERE!\n",
    "early_plot = Monte_early.plot_simulation()"
   ]
  },
  {
   "cell_type": "code",
   "execution_count": 32,
   "metadata": {},
   "outputs": [
    {
     "data": {
      "image/png": "[encoded data removed]",
      "text/plain": [
       "<Figure size 432x288 with 1 Axes>"
      ]
     },
     "metadata": {
      "needs_background": "light"
     },
     "output_type": "display_data"
    }
   ],
   "source": [
    "# Plot probability distribution and confidence intervals\n",
    "# YOUR CODE HERE!\n",
    "early_dist = Monte_early.plot_distribution()"
   ]
  },
  {
   "cell_type": "code",
   "execution_count": 33,
   "metadata": {},
   "outputs": [
    {
     "name": "stdout",
     "output_type": "stream",
     "text": [
      "count           500.000000\n",
      "mean              1.242229\n",
      "std               0.244067\n",
      "min               0.710681\n",
      "25%               1.073099\n",
      "50%               1.207677\n",
      "75%               1.374994\n",
      "max               2.119900\n",
      "95% CI Lower      0.849068\n",
      "95% CI Upper      1.810226\n",
      "Name: 1260, dtype: float64\n"
     ]
    }
   ],
   "source": [
    "# Fetch summary statistics from the Monte Carlo simulation results\n",
    "# YOUR CODE HERE!\n",
    "sum_table2 = Monte_early.summarize_cumulative_return()\n",
    "\n",
    "sim_return_data_2 = { \n",
    "    'mean': list(Monte_early.simulated_return.mean(axis=1)),\n",
    "    'median': list(Monte_early.simulated_return.median(axis=1)),\n",
    "    'min': list(Monte_early.simulated_return.min(axis=1)),\n",
    "    'max': list(Monte_early.simulated_return.max(axis=1))}\n",
    "# Print summary statistics\n",
    "# YOUR CODE HERE!\n",
    "sim_return_2_df = pd.DataFrame(sim_return_data_2)\n",
    "\n",
    "print(sum_table2)"
   ]
  },
  {
   "cell_type": "code",
   "execution_count": 34,
   "metadata": {},
   "outputs": [
    {
     "name": "stdout",
     "output_type": "stream",
     "text": [
      "There is a 95% chance that an initial investment of $60000 in the portfolio over the next 5 years will end within in the range of $108613.53 and $50944.07\n"
     ]
    }
   ],
   "source": [
    "# Set initial investment\n",
    "# YOUR CODE HERE!\n",
    "initial_investment_early = 60000\n",
    "# Use the lower and upper `95%` confidence intervals to calculate the range of the possible outcomes of our $60,000\n",
    "# YOUR CODE HERE!\n",
    "ci_upper_five = round(sum_table2[8]*60000,2)\n",
    "ci_lower_five = round(sum_table2[9]*60000,2)\n",
    "# Print results\n",
    "print(f\"There is a 95% chance that an initial investment of ${initial_investment_early} in the portfolio\"\n",
    "      f\" over the next 5 years will end within in the range of\"\n",
    "      f\" ${ci_lower_five} and ${ci_upper_five}\")"
   ]
  },
  {
   "cell_type": "markdown",
   "metadata": {},
   "source": [
    "### Ten Years Retirement Option"
   ]
  },
  {
   "cell_type": "code",
   "execution_count": 35,
   "metadata": {},
   "outputs": [],
   "source": [
    "# Configuring a Monte Carlo simulation to forecast 10 years cumulative returns\n",
    "# YOUR CODE HERE!\n",
    "Monte_early_ten = MCSimulation(portfolio_data = df_stock_data, weights = [.6, .4], num_simulation=sims, num_trading_days=252*10)"
   ]
  },
  {
   "cell_type": "code",
   "execution_count": 36,
   "metadata": {},
   "outputs": [
    {
     "name": "stdout",
     "output_type": "stream",
     "text": [
      "Running Monte Carlo simulation number 0.\n",
      "Running Monte Carlo simulation number 10.\n",
      "Running Monte Carlo simulation number 20.\n",
      "Running Monte Carlo simulation number 30.\n",
      "Running Monte Carlo simulation number 40.\n",
      "Running Monte Carlo simulation number 50.\n",
      "Running Monte Carlo simulation number 60.\n",
      "Running Monte Carlo simulation number 70.\n",
      "Running Monte Carlo simulation number 80.\n",
      "Running Monte Carlo simulation number 90.\n",
      "Running Monte Carlo simulation number 100.\n"
     ]
    },
    {
     "name": "stderr",
     "output_type": "stream",
     "text": [
      "/Users/thomaspalmisano/Desktop/FinTech_ASU/APIs_Hw/Financial_Planning/Starter_Code/MCForecastTools.py:117: PerformanceWarning: DataFrame is highly fragmented.  This is usually the result of calling `frame.insert` many times, which has poor performance.  Consider joining all columns at once using pd.concat(axis=1) instead.  To get a de-fragmented frame, use `newframe = frame.copy()`\n",
      "  portfolio_cumulative_returns[n] = (1 + sim_df.fillna(0)).cumprod()\n"
     ]
    },
    {
     "name": "stdout",
     "output_type": "stream",
     "text": [
      "Running Monte Carlo simulation number 110.\n",
      "Running Monte Carlo simulation number 120.\n",
      "Running Monte Carlo simulation number 130.\n",
      "Running Monte Carlo simulation number 140.\n",
      "Running Monte Carlo simulation number 150.\n",
      "Running Monte Carlo simulation number 160.\n",
      "Running Monte Carlo simulation number 170.\n",
      "Running Monte Carlo simulation number 180.\n",
      "Running Monte Carlo simulation number 190.\n",
      "Running Monte Carlo simulation number 200.\n",
      "Running Monte Carlo simulation number 210.\n",
      "Running Monte Carlo simulation number 220.\n",
      "Running Monte Carlo simulation number 230.\n",
      "Running Monte Carlo simulation number 240.\n",
      "Running Monte Carlo simulation number 250.\n",
      "Running Monte Carlo simulation number 260.\n",
      "Running Monte Carlo simulation number 270.\n",
      "Running Monte Carlo simulation number 280.\n",
      "Running Monte Carlo simulation number 290.\n",
      "Running Monte Carlo simulation number 300.\n",
      "Running Monte Carlo simulation number 310.\n",
      "Running Monte Carlo simulation number 320.\n",
      "Running Monte Carlo simulation number 330.\n",
      "Running Monte Carlo simulation number 340.\n",
      "Running Monte Carlo simulation number 350.\n",
      "Running Monte Carlo simulation number 360.\n",
      "Running Monte Carlo simulation number 370.\n",
      "Running Monte Carlo simulation number 380.\n",
      "Running Monte Carlo simulation number 390.\n",
      "Running Monte Carlo simulation number 400.\n",
      "Running Monte Carlo simulation number 410.\n",
      "Running Monte Carlo simulation number 420.\n",
      "Running Monte Carlo simulation number 430.\n",
      "Running Monte Carlo simulation number 440.\n",
      "Running Monte Carlo simulation number 450.\n",
      "Running Monte Carlo simulation number 460.\n",
      "Running Monte Carlo simulation number 470.\n",
      "Running Monte Carlo simulation number 480.\n",
      "Running Monte Carlo simulation number 490.\n"
     ]
    },
    {
     "data": {
      "text/html": [
       "<div>\n",
       "<style scoped>\n",
       "    .dataframe tbody tr th:only-of-type {\n",
       "        vertical-align: middle;\n",
       "    }\n",
       "\n",
       "    .dataframe tbody tr th {\n",
       "        vertical-align: top;\n",
       "    }\n",
       "\n",
       "    .dataframe thead th {\n",
       "        text-align: right;\n",
       "    }\n",
       "</style>\n",
       "<table border=\"1\" class=\"dataframe\">\n",
       "  <thead>\n",
       "    <tr style=\"text-align: right;\">\n",
       "      <th></th>\n",
       "      <th>0</th>\n",
       "      <th>1</th>\n",
       "      <th>2</th>\n",
       "      <th>3</th>\n",
       "      <th>4</th>\n",
       "      <th>5</th>\n",
       "      <th>6</th>\n",
       "      <th>7</th>\n",
       "      <th>8</th>\n",
       "      <th>9</th>\n",
       "      <th>...</th>\n",
       "      <th>490</th>\n",
       "      <th>491</th>\n",
       "      <th>492</th>\n",
       "      <th>493</th>\n",
       "      <th>494</th>\n",
       "      <th>495</th>\n",
       "      <th>496</th>\n",
       "      <th>497</th>\n",
       "      <th>498</th>\n",
       "      <th>499</th>\n",
       "    </tr>\n",
       "  </thead>\n",
       "  <tbody>\n",
       "    <tr>\n",
       "      <th>0</th>\n",
       "      <td>1.000000</td>\n",
       "      <td>1.000000</td>\n",
       "      <td>1.000000</td>\n",
       "      <td>1.000000</td>\n",
       "      <td>1.000000</td>\n",
       "      <td>1.000000</td>\n",
       "      <td>1.000000</td>\n",
       "      <td>1.000000</td>\n",
       "      <td>1.000000</td>\n",
       "      <td>1.000000</td>\n",
       "      <td>...</td>\n",
       "      <td>1.000000</td>\n",
       "      <td>1.000000</td>\n",
       "      <td>1.000000</td>\n",
       "      <td>1.000000</td>\n",
       "      <td>1.000000</td>\n",
       "      <td>1.000000</td>\n",
       "      <td>1.000000</td>\n",
       "      <td>1.000000</td>\n",
       "      <td>1.000000</td>\n",
       "      <td>1.000000</td>\n",
       "    </tr>\n",
       "    <tr>\n",
       "      <th>1</th>\n",
       "      <td>1.003082</td>\n",
       "      <td>0.993916</td>\n",
       "      <td>1.002102</td>\n",
       "      <td>1.000963</td>\n",
       "      <td>1.000377</td>\n",
       "      <td>0.995929</td>\n",
       "      <td>1.008321</td>\n",
       "      <td>0.992979</td>\n",
       "      <td>1.002631</td>\n",
       "      <td>1.001939</td>\n",
       "      <td>...</td>\n",
       "      <td>0.991248</td>\n",
       "      <td>1.005052</td>\n",
       "      <td>1.005306</td>\n",
       "      <td>1.001665</td>\n",
       "      <td>1.003073</td>\n",
       "      <td>1.002625</td>\n",
       "      <td>1.002817</td>\n",
       "      <td>0.998575</td>\n",
       "      <td>0.988602</td>\n",
       "      <td>0.994103</td>\n",
       "    </tr>\n",
       "    <tr>\n",
       "      <th>2</th>\n",
       "      <td>0.994733</td>\n",
       "      <td>0.993152</td>\n",
       "      <td>1.008908</td>\n",
       "      <td>1.011510</td>\n",
       "      <td>1.013620</td>\n",
       "      <td>0.996064</td>\n",
       "      <td>1.014230</td>\n",
       "      <td>0.995164</td>\n",
       "      <td>0.999425</td>\n",
       "      <td>0.993973</td>\n",
       "      <td>...</td>\n",
       "      <td>0.992532</td>\n",
       "      <td>0.984450</td>\n",
       "      <td>1.006530</td>\n",
       "      <td>0.998544</td>\n",
       "      <td>1.010792</td>\n",
       "      <td>1.002479</td>\n",
       "      <td>1.004640</td>\n",
       "      <td>1.008593</td>\n",
       "      <td>0.987334</td>\n",
       "      <td>0.997179</td>\n",
       "    </tr>\n",
       "    <tr>\n",
       "      <th>3</th>\n",
       "      <td>1.000070</td>\n",
       "      <td>0.989116</td>\n",
       "      <td>1.015289</td>\n",
       "      <td>1.005153</td>\n",
       "      <td>1.018130</td>\n",
       "      <td>0.993191</td>\n",
       "      <td>1.012931</td>\n",
       "      <td>0.996035</td>\n",
       "      <td>0.992101</td>\n",
       "      <td>1.000173</td>\n",
       "      <td>...</td>\n",
       "      <td>0.977100</td>\n",
       "      <td>0.985809</td>\n",
       "      <td>1.004096</td>\n",
       "      <td>1.002903</td>\n",
       "      <td>1.008217</td>\n",
       "      <td>1.008755</td>\n",
       "      <td>0.997311</td>\n",
       "      <td>1.004776</td>\n",
       "      <td>0.994902</td>\n",
       "      <td>0.997812</td>\n",
       "    </tr>\n",
       "    <tr>\n",
       "      <th>4</th>\n",
       "      <td>0.999833</td>\n",
       "      <td>0.992871</td>\n",
       "      <td>1.018090</td>\n",
       "      <td>1.002514</td>\n",
       "      <td>1.018962</td>\n",
       "      <td>0.993558</td>\n",
       "      <td>1.020229</td>\n",
       "      <td>1.007300</td>\n",
       "      <td>0.989629</td>\n",
       "      <td>1.006752</td>\n",
       "      <td>...</td>\n",
       "      <td>0.974990</td>\n",
       "      <td>0.982336</td>\n",
       "      <td>0.999974</td>\n",
       "      <td>1.012737</td>\n",
       "      <td>1.006496</td>\n",
       "      <td>0.997513</td>\n",
       "      <td>1.001181</td>\n",
       "      <td>1.006363</td>\n",
       "      <td>0.994901</td>\n",
       "      <td>0.999565</td>\n",
       "    </tr>\n",
       "    <tr>\n",
       "      <th>...</th>\n",
       "      <td>...</td>\n",
       "      <td>...</td>\n",
       "      <td>...</td>\n",
       "      <td>...</td>\n",
       "      <td>...</td>\n",
       "      <td>...</td>\n",
       "      <td>...</td>\n",
       "      <td>...</td>\n",
       "      <td>...</td>\n",
       "      <td>...</td>\n",
       "      <td>...</td>\n",
       "      <td>...</td>\n",
       "      <td>...</td>\n",
       "      <td>...</td>\n",
       "      <td>...</td>\n",
       "      <td>...</td>\n",
       "      <td>...</td>\n",
       "      <td>...</td>\n",
       "      <td>...</td>\n",
       "      <td>...</td>\n",
       "      <td>...</td>\n",
       "    </tr>\n",
       "    <tr>\n",
       "      <th>2516</th>\n",
       "      <td>1.604923</td>\n",
       "      <td>2.092940</td>\n",
       "      <td>1.460526</td>\n",
       "      <td>1.512643</td>\n",
       "      <td>1.303004</td>\n",
       "      <td>2.485626</td>\n",
       "      <td>1.593855</td>\n",
       "      <td>1.895740</td>\n",
       "      <td>1.908240</td>\n",
       "      <td>1.639121</td>\n",
       "      <td>...</td>\n",
       "      <td>1.457846</td>\n",
       "      <td>1.601045</td>\n",
       "      <td>1.812212</td>\n",
       "      <td>1.183643</td>\n",
       "      <td>1.525419</td>\n",
       "      <td>1.926970</td>\n",
       "      <td>1.467598</td>\n",
       "      <td>1.010931</td>\n",
       "      <td>1.510728</td>\n",
       "      <td>2.114738</td>\n",
       "    </tr>\n",
       "    <tr>\n",
       "      <th>2517</th>\n",
       "      <td>1.613834</td>\n",
       "      <td>2.098550</td>\n",
       "      <td>1.464051</td>\n",
       "      <td>1.523245</td>\n",
       "      <td>1.300584</td>\n",
       "      <td>2.505101</td>\n",
       "      <td>1.595464</td>\n",
       "      <td>1.906289</td>\n",
       "      <td>1.900809</td>\n",
       "      <td>1.632743</td>\n",
       "      <td>...</td>\n",
       "      <td>1.453882</td>\n",
       "      <td>1.601764</td>\n",
       "      <td>1.816425</td>\n",
       "      <td>1.186011</td>\n",
       "      <td>1.525734</td>\n",
       "      <td>1.907769</td>\n",
       "      <td>1.468108</td>\n",
       "      <td>1.003034</td>\n",
       "      <td>1.523517</td>\n",
       "      <td>2.116797</td>\n",
       "    </tr>\n",
       "    <tr>\n",
       "      <th>2518</th>\n",
       "      <td>1.617518</td>\n",
       "      <td>2.101425</td>\n",
       "      <td>1.465529</td>\n",
       "      <td>1.544866</td>\n",
       "      <td>1.296694</td>\n",
       "      <td>2.510302</td>\n",
       "      <td>1.591859</td>\n",
       "      <td>1.899798</td>\n",
       "      <td>1.913079</td>\n",
       "      <td>1.639789</td>\n",
       "      <td>...</td>\n",
       "      <td>1.447432</td>\n",
       "      <td>1.600966</td>\n",
       "      <td>1.806827</td>\n",
       "      <td>1.189953</td>\n",
       "      <td>1.516012</td>\n",
       "      <td>1.917160</td>\n",
       "      <td>1.459331</td>\n",
       "      <td>1.004959</td>\n",
       "      <td>1.521684</td>\n",
       "      <td>2.106131</td>\n",
       "    </tr>\n",
       "    <tr>\n",
       "      <th>2519</th>\n",
       "      <td>1.629428</td>\n",
       "      <td>2.101422</td>\n",
       "      <td>1.450874</td>\n",
       "      <td>1.556574</td>\n",
       "      <td>1.307171</td>\n",
       "      <td>2.515834</td>\n",
       "      <td>1.598380</td>\n",
       "      <td>1.865030</td>\n",
       "      <td>1.920469</td>\n",
       "      <td>1.634644</td>\n",
       "      <td>...</td>\n",
       "      <td>1.454394</td>\n",
       "      <td>1.600639</td>\n",
       "      <td>1.810842</td>\n",
       "      <td>1.173823</td>\n",
       "      <td>1.502672</td>\n",
       "      <td>1.928948</td>\n",
       "      <td>1.461978</td>\n",
       "      <td>1.006117</td>\n",
       "      <td>1.519113</td>\n",
       "      <td>2.125462</td>\n",
       "    </tr>\n",
       "    <tr>\n",
       "      <th>2520</th>\n",
       "      <td>1.641885</td>\n",
       "      <td>2.118991</td>\n",
       "      <td>1.454285</td>\n",
       "      <td>1.561022</td>\n",
       "      <td>1.309382</td>\n",
       "      <td>2.497959</td>\n",
       "      <td>1.596864</td>\n",
       "      <td>1.873063</td>\n",
       "      <td>1.925303</td>\n",
       "      <td>1.643229</td>\n",
       "      <td>...</td>\n",
       "      <td>1.457645</td>\n",
       "      <td>1.607089</td>\n",
       "      <td>1.801721</td>\n",
       "      <td>1.182296</td>\n",
       "      <td>1.500317</td>\n",
       "      <td>1.926338</td>\n",
       "      <td>1.475776</td>\n",
       "      <td>1.013418</td>\n",
       "      <td>1.502859</td>\n",
       "      <td>2.108028</td>\n",
       "    </tr>\n",
       "  </tbody>\n",
       "</table>\n",
       "<p>2521 rows × 500 columns</p>\n",
       "</div>"
      ],
      "text/plain": [
       "           0         1         2         3         4         5         6    \\\n",
       "0     1.000000  1.000000  1.000000  1.000000  1.000000  1.000000  1.000000   \n",
       "1     1.003082  0.993916  1.002102  1.000963  1.000377  0.995929  1.008321   \n",
       "2     0.994733  0.993152  1.008908  1.011510  1.013620  0.996064  1.014230   \n",
       "3     1.000070  0.989116  1.015289  1.005153  1.018130  0.993191  1.012931   \n",
       "4     0.999833  0.992871  1.018090  1.002514  1.018962  0.993558  1.020229   \n",
       "...        ...       ...       ...       ...       ...       ...       ...   \n",
       "2516  1.604923  2.092940  1.460526  1.512643  1.303004  2.485626  1.593855   \n",
       "2517  1.613834  2.098550  1.464051  1.523245  1.300584  2.505101  1.595464   \n",
       "2518  1.617518  2.101425  1.465529  1.544866  1.296694  2.510302  1.591859   \n",
       "2519  1.629428  2.101422  1.450874  1.556574  1.307171  2.515834  1.598380   \n",
       "2520  1.641885  2.118991  1.454285  1.561022  1.309382  2.497959  1.596864   \n",
       "\n",
       "           7         8         9    ...       490       491       492  \\\n",
       "0     1.000000  1.000000  1.000000  ...  1.000000  1.000000  1.000000   \n",
       "1     0.992979  1.002631  1.001939  ...  0.991248  1.005052  1.005306   \n",
       "2     0.995164  0.999425  0.993973  ...  0.992532  0.984450  1.006530   \n",
       "3     0.996035  0.992101  1.000173  ...  0.977100  0.985809  1.004096   \n",
       "4     1.007300  0.989629  1.006752  ...  0.974990  0.982336  0.999974   \n",
       "...        ...       ...       ...  ...       ...       ...       ...   \n",
       "2516  1.895740  1.908240  1.639121  ...  1.457846  1.601045  1.812212   \n",
       "2517  1.906289  1.900809  1.632743  ...  1.453882  1.601764  1.816425   \n",
       "2518  1.899798  1.913079  1.639789  ...  1.447432  1.600966  1.806827   \n",
       "2519  1.865030  1.920469  1.634644  ...  1.454394  1.600639  1.810842   \n",
       "2520  1.873063  1.925303  1.643229  ...  1.457645  1.607089  1.801721   \n",
       "\n",
       "           493       494       495       496       497       498       499  \n",
       "0     1.000000  1.000000  1.000000  1.000000  1.000000  1.000000  1.000000  \n",
       "1     1.001665  1.003073  1.002625  1.002817  0.998575  0.988602  0.994103  \n",
       "2     0.998544  1.010792  1.002479  1.004640  1.008593  0.987334  0.997179  \n",
       "3     1.002903  1.008217  1.008755  0.997311  1.004776  0.994902  0.997812  \n",
       "4     1.012737  1.006496  0.997513  1.001181  1.006363  0.994901  0.999565  \n",
       "...        ...       ...       ...       ...       ...       ...       ...  \n",
       "2516  1.183643  1.525419  1.926970  1.467598  1.010931  1.510728  2.114738  \n",
       "2517  1.186011  1.525734  1.907769  1.468108  1.003034  1.523517  2.116797  \n",
       "2518  1.189953  1.516012  1.917160  1.459331  1.004959  1.521684  2.106131  \n",
       "2519  1.173823  1.502672  1.928948  1.461978  1.006117  1.519113  2.125462  \n",
       "2520  1.182296  1.500317  1.926338  1.475776  1.013418  1.502859  2.108028  \n",
       "\n",
       "[2521 rows x 500 columns]"
      ]
     },
     "execution_count": 36,
     "metadata": {},
     "output_type": "execute_result"
    }
   ],
   "source": [
    "# Running a Monte Carlo simulation to forecast 10 years cumulative returns\n",
    "# YOUR CODE HERE!\n",
    "Monte_early_ten.calc_cumulative_return()"
   ]
  },
  {
   "cell_type": "code",
   "execution_count": 37,
   "metadata": {},
   "outputs": [
    {
     "data": {
      "image/png": "[encoded data removed]",
      "text/plain": [
       "<Figure size 432x288 with 1 Axes>"
      ]
     },
     "metadata": {
      "needs_background": "light"
     },
     "output_type": "display_data"
    }
   ],
   "source": [
    "# Plot simulation outcomes\n",
    "# YOUR CODE HERE!\n",
    "plot_3 = Monte_early_ten.plot_simulation()"
   ]
  },
  {
   "cell_type": "code",
   "execution_count": 38,
   "metadata": {},
   "outputs": [
    {
     "data": {
      "image/png": "[encoded data removed]",
      "text/plain": [
       "<Figure size 432x288 with 1 Axes>"
      ]
     },
     "metadata": {
      "needs_background": "light"
     },
     "output_type": "display_data"
    }
   ],
   "source": [
    "# Plot probability distribution and confidence intervals\n",
    "# YOUR CODE HERE!\n",
    "dist_3 = Monte_early_ten.plot_distribution()"
   ]
  },
  {
   "cell_type": "code",
   "execution_count": 39,
   "metadata": {},
   "outputs": [
    {
     "name": "stdout",
     "output_type": "stream",
     "text": [
      "count           500.000000\n",
      "mean              1.595521\n",
      "std               0.443494\n",
      "min               0.667828\n",
      "25%               1.287425\n",
      "50%               1.533050\n",
      "75%               1.863595\n",
      "max               3.195808\n",
      "95% CI Lower      0.934589\n",
      "95% CI Upper      2.634896\n",
      "Name: 2520, dtype: float64\n"
     ]
    }
   ],
   "source": [
    "# Fetch summary statistics from the Monte Carlo simulation results\n",
    "# YOUR CODE HERE!\n",
    "sum_table3 = Monte_early_ten.summarize_cumulative_return()\n",
    "\n",
    "sim_return_data_3 = { \n",
    "    'mean': list(Monte_early_ten.simulated_return.mean(axis=1)),\n",
    "    'median': list(Monte_early_ten.simulated_return.median(axis=1)),\n",
    "    'min': list(Monte_early_ten.simulated_return.min(axis=1)),\n",
    "    'max': list(Monte_early_ten.simulated_return.max(axis=1))}\n",
    "# Print summary statistics\n",
    "# YOUR CODE HERE!\n",
    "sim_return_2_df = pd.DataFrame(sim_return_data_3)\n",
    "\n",
    "print(sum_table3)"
   ]
  },
  {
   "cell_type": "code",
   "execution_count": 40,
   "metadata": {},
   "outputs": [
    {
     "name": "stdout",
     "output_type": "stream",
     "text": [
      "There is a 95% chance that an initial investment of $60000 in the portfolio over the next 10 years will end within in the range of $158093.77 and $56075.32\n"
     ]
    }
   ],
   "source": [
    "# Set initial investment\n",
    "# YOUR CODE HERE!\n",
    "initial_investment_ten = 60000\n",
    "# Use the lower and upper `95%` confidence intervals to calculate the range of the possible outcomes of our $60,000\n",
    "# YOUR CODE HERE!\n",
    "ci_upper_ten = round(sum_table3[8]*60000,2)\n",
    "ci_lower_ten = round(sum_table3[9]*60000,2)\n",
    "# Print results\n",
    "print(f\"There is a 95% chance that an initial investment of ${initial_investment_ten} in the portfolio\"\n",
    "      f\" over the next 10 years will end within in the range of\"\n",
    "      f\" ${ci_lower_ten} and ${ci_upper_ten}\")"
   ]
  },
  {
   "cell_type": "code",
   "execution_count": null,
   "metadata": {},
   "outputs": [],
   "source": []
  }
 ],
 "metadata": {
  "kernelspec": {
   "display_name": "Python 3 (ipykernel)",
   "language": "python",
   "name": "python3"
  },
  "language_info": {
   "codemirror_mode": {
    "name": "ipython",
    "version": 3
   },
   "file_extension": ".py",
   "mimetype": "text/x-python",
   "name": "python",
   "nbconvert_exporter": "python",
   "pygments_lexer": "ipython3",
   "version": "3.7.13"
  },
  "nteract": {
   "version": "0.28.0"
  }
 },
 "nbformat": 4,
 "nbformat_minor": 4
}
